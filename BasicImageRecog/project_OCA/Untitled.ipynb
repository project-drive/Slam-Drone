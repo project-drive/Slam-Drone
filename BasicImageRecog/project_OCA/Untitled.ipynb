{
 "cells": [
  {
   "cell_type": "code",
   "execution_count": 5,
   "metadata": {},
   "outputs": [],
   "source": [
    "from keras.models import load_model\n",
    "import cv2\n",
    "import numpy as np\n",
    "import matplotlib.pyplot as plt"
   ]
  },
  {
   "cell_type": "code",
   "execution_count": 2,
   "metadata": {},
   "outputs": [
    {
     "name": "stdout",
     "output_type": "stream",
     "text": [
      "<keras.engine.sequential.Sequential object at 0x0000028C89888BE0>\n"
     ]
    }
   ],
   "source": [
    "#loading the models saved in the previous snippet of the code\n",
    "model1 = load_model('OCA.h5')\n",
    "print(model1)"
   ]
  },
  {
   "cell_type": "code",
   "execution_count": 4,
   "metadata": {},
   "outputs": [],
   "source": [
    "def keras_process_image(img):\n",
    "    image_x = 256\n",
    "    image_y = 256\n",
    "    #resizing the input image just to be sure\n",
    "    img = cv2.resize(img, (image_x, image_y))\n",
    "    img = np.array(img, dtype=np.float32)\n",
    "    img = np.reshape(img, (-1, image_x, image_y, 1))\n",
    "    return img\n",
    "\n",
    "def keras_predict(model, image):\n",
    "    processed = keras_process_image(image)\n",
    "    #pred_prob is the probable answer of the model in form of 37x1 matrix\n",
    "    pred_prob = model.predict(processed)[0]\n",
    "    #finding the index of the class which it has predicted and storing it in pred_class\n",
    "    pred_class = list(pred_prob).index(max(pred_prob))\n",
    "    return max(pred_prob), pred_class"
   ]
  },
  {
   "cell_type": "code",
   "execution_count": 12,
   "metadata": {},
   "outputs": [],
   "source": [
    "letter_count = {0:'fan0', 1:'fan1', 2:'fan2', 3:'fan3'}"
   ]
  },
  {
   "cell_type": "code",
   "execution_count": 15,
   "metadata": {},
   "outputs": [
    {
     "name": "stdout",
     "output_type": "stream",
     "text": [
      "fan0\n",
      "fan1\n",
      "fan0\n",
      "fan3\n"
     ]
    }
   ],
   "source": [
    "#for loop for the number of photos in the folder\n",
    "for i in range(4):\n",
    "    image = cv2.imread(\"IMG_\"+str(i)+\".jpg\", cv2.IMREAD_GRAYSCALE)\n",
    "    pred_probab, pred_class = keras_predict(model1, image)\n",
    "    #letter_count[pred_class] is getting the tag from the dictionary and saving the image with its name\n",
    "    cv2.imwrite(\"newimg_\"+letter_count[pred_class]+\".jpg\",image)\n",
    "    print(letter_count[pred_class])"
   ]
  }
 ],
 "metadata": {
  "kernelspec": {
   "display_name": "Python 3",
   "language": "python",
   "name": "python3"
  },
  "language_info": {
   "codemirror_mode": {
    "name": "ipython",
    "version": 3
   },
   "file_extension": ".py",
   "mimetype": "text/x-python",
   "name": "python",
   "nbconvert_exporter": "python",
   "pygments_lexer": "ipython3",
   "version": "3.5.5"
  }
 },
 "nbformat": 4,
 "nbformat_minor": 2
}
